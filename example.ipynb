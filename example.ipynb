{
 "cells": [
  {
   "cell_type": "code",
   "execution_count": 1,
   "metadata": {},
   "outputs": [],
   "source": [
    "# Quantum State Representation for a Single Photon Qubit\n",
    "\n",
    "''' \n",
    "    In this notebook, we will demonstrate \n",
    "    the concept of a single photon qubit using a custom `Ket` class. \n",
    "    We will initialize the qubit, apply various quantum gates, and measure \n",
    "    the qubit state.\n",
    "'''\n",
    "\n",
    "# Import the Ket class\n",
    "from utils.qubit import Ket\n",
    "\n",
    "# 🌟 Create an instance of Ket\n",
    "ket_instance = Ket(label=1)\n"
   ]
  },
  {
   "cell_type": "code",
   "execution_count": 2,
   "metadata": {},
   "outputs": [
    {
     "name": "stdout",
     "output_type": "stream",
     "text": [
      "Initial state vector: [1.+0.j 0.+0.j]\n"
     ]
    }
   ],
   "source": [
    "# 🚀 Display the initial state\n",
    "print(f\"Initial state vector: {ket_instance.state_vector}\")"
   ]
  },
  {
   "cell_type": "code",
   "execution_count": 3,
   "metadata": {},
   "outputs": [
    {
     "name": "stdout",
     "output_type": "stream",
     "text": [
      "State vector after Hadamard gate: [0.70710678+0.j 0.70710678+0.j]\n"
     ]
    }
   ],
   "source": [
    "\n",
    "# ✨ Apply the Hadamard gate\n",
    "ket_instance.apply_hadamard()\n",
    "print(f\"State vector after Hadamard gate: {ket_instance.state_vector}\")"
   ]
  }
 ],
 "metadata": {
  "kernelspec": {
   "display_name": "nlp_dev",
   "language": "python",
   "name": "python3"
  },
  "language_info": {
   "codemirror_mode": {
    "name": "ipython",
    "version": 3
   },
   "file_extension": ".py",
   "mimetype": "text/x-python",
   "name": "python",
   "nbconvert_exporter": "python",
   "pygments_lexer": "ipython3",
   "version": "3.10.12"
  }
 },
 "nbformat": 4,
 "nbformat_minor": 2
}
